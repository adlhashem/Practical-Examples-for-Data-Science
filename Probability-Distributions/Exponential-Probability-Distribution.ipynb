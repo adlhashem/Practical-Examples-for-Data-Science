{
 "cells": [
  {
   "cell_type": "markdown",
   "id": "edd2bf32-1b8e-4f6b-8fde-a86d9e43a2d5",
   "metadata": {},
   "source": [
    "<div style=\"background-color: #00008B; padding: 20px;\">\n",
    "    <h1 style=\"font-size: 100px; color: #ffffff;\">Exponential Distribution</h1>\n",
    "</div>"
   ]
  },
  {
   "cell_type": "markdown",
   "id": "bbbd6b74-671b-49fa-a101-d8b2e5351c7a",
   "metadata": {},
   "source": [
    "\n",
    "<div style=\"border: 2px solid green; border-radius: 10px; padding: 15px; background-color: #e6ffe6;\">\n",
    "    <h2 style=\"color: green;\">Exponential Probability Distribution</h2>\n",
    "    <p style=\"font-size: 16px; color: black;\">\n",
    "        The exponential distribution is a continuous probability distribution that describes the time between events in a Poisson process, i.e., a process in which events occur continuously and independently at a constant average rate. It is widely used to model the time until the next event occurs, such as the time until a radioactive particle decays, the time between arrivals of customers at a service center, or the time until a computer system fails.\n",
    "    </p>\n",
    "    <h3 style=\"color: green;\">Key Characteristics</h3>\n",
    "    <ul style=\"font-size: 16px; color: black;\">\n",
    "        <li><strong>Memoryless Property:</strong> The exponential distribution has the memoryless property, meaning that the probability of an event occurring in the next time interval is independent of how much time has already elapsed.</li>\n",
    "        <li><strong>Parameter:</strong> The distribution is characterized by a single parameter $ \\lambda $ (lambda), which is the rate parameter. It represents the average number of events per unit time.</li>\n",
    "        <li><strong>Applications:</strong> Commonly used in queuing theory, reliability engineering, and survival analysis.</li>\n",
    "    </ul>\n",
    "    <h3 style=\"color: green;\">Mathematical Formula</h3>\n",
    "    <h4 style=\"color: green;\">Probability Density Function (PDF)</h4>\n",
    "    <p style=\"font-size: 16px; color: black;\">\n",
    "        The probability density function (PDF) of the exponential distribution is given by:\n",
    "    </p>\n",
    "    <p style=\"font-size: 16px; color: black; margin-left: 40px;\">\n",
    "        $$ f(x; \\lambda) = \\lambda e^{-\\lambda x} \\quad \\text{for } x \\ge 0, $$\n",
    "    </p>\n",
    "    <p style=\"font-size: 16px; color: black;\">\n",
    "        where:\n",
    "    </p>\n",
    "    <ul style=\"font-size: 16px; color: black; margin-left: 40px;\">\n",
    "        <li>$ x $ is the time between events.</li>\n",
    "        <li>$ \\lambda $ is the rate parameter (mean rate of events per unit time).</li>\n",
    "    </ul>\n",
    "    <h4 style=\"color: green;\">Cumulative Distribution Function (CDF)</h4>\n",
    "    <p style=\"font-size: 16px; color: black;\">\n",
    "        The cumulative distribution function (CDF) of the exponential distribution is given by:\n",
    "    </p>\n",
    "    <p style=\"font-size: 16px; color: black; margin-left: 40px;\">\n",
    "        $$ F(x; \\lambda) = 1 - e^{-\\lambda x} \\quad \\text{for } x \\ge 0. $$\n",
    "    </p>\n",
    "    <h4 style=\"color: green;\">Mean and Variance</h4>\n",
    "    <p style=\"font-size: 16px; color: black;\">\n",
    "        The mean ($ \\mu $) and variance ($ \\sigma^2 $) of the exponential distribution are given by:\n",
    "    </p>\n",
    "    <ul style=\"font-size: 16px; color: black; margin-left: 40px;\">\n",
    "        <li>Mean: $$ \\mu = \\frac{1}{\\lambda} $$</li>\n",
    "        <li>Variance: $$ \\sigma^2 = \\frac{1}{\\lambda^2} $$</li>\n",
    "    </ul>\n",
    "    <h3 style=\"color: green;\">Summary</h3>\n",
    "    <p style=\"font-size: 16px; color: black;\">\n",
    "        The exponential distribution is a fundamental probability distribution for modeling the time between independent events that happen at a constant average rate. Its memoryless property and simple mathematical form make it a convenient choice for various applications in statistics, reliability engineering, and beyond.\n",
    "    </p>\n",
    "</div>\n",
    "\n",
    "---"
   ]
  },
  {
   "cell_type": "markdown",
   "id": "15560567-abb7-41f2-b7e1-4688bd609ee6",
   "metadata": {
    "jp-MarkdownHeadingCollapsed": true
   },
   "source": [
    "<div style=\"border: 2px solid blue; border-radius: 10px; padding: 15px; background-color: #E6E6FA;\">\n",
    "\n",
    "### Problem 1\n",
    "\n",
    "The time between arrivals at a bus stop follows an exponential distribution with a mean of 10 minutes. Find the probability that the time between two successive arrivals is less than 5 minutes.\n",
    "\n",
    "**Solution:**\n",
    "\n",
    "Given:\n",
    "- Mean (\\( \\mu \\)) = 10 minutes\n",
    "\n",
    "Rate parameter (\\( \\lambda \\)) = $$ \\frac{1}{\\mu} = \\frac{1}{10} $$\n",
    "\n",
    "The cumulative distribution function (CDF) of the exponential distribution is:\n",
    "$$ F(x) = 1 - e^{-\\lambda x} $$\n",
    "\n",
    "To find $$ P(X < 5) $$:\n",
    "$$ P(X < 5) = 1 - e^{-\\lambda \\cdot 5} $$\n",
    "$$ P(X < 5) = 1 - e^{-\\frac{5}{10}} $$\n",
    "$$ P(X < 5) = 1 - e^{-0.5} $$\n",
    "$$ P(X < 5) \\approx 1 - 0.6065 $$\n",
    "$$ P(X < 5) \\approx 0.3935 $$\n",
    "\n",
    "So, the probability that the time between two successive arrivals is less than 5 minutes is approximately **0.3935**.\n",
    "\n",
    "</div>"
   ]
  },
  {
   "cell_type": "markdown",
   "id": "e83fbfec-4617-44bc-9709-eaf11c63ef27",
   "metadata": {},
   "source": [
    "\n",
    "\n",
    "\n",
    "<div style=\"border: 2px solid blue; border-radius: 10px; padding: 15px; background-color: #E6E6FA;\">\n",
    "\n",
    "### Problem 2\n",
    "\n",
    "The lifetime of a certain electronic component has an exponential distribution with a mean of 5000 hours. Find the probability that the component lasts more than 2000 hours.\n",
    "\n",
    "**Solution:**\n",
    "\n",
    "Given:\n",
    "- Mean (\\( \\mu \\)) = 5000 hours\n",
    "\n",
    "Rate parameter (\\( \\lambda \\)) = $$ \\frac{1}{\\mu} = \\frac{1}{5000} $$\n",
    "\n",
    "The probability density function (PDF) of the exponential distribution is:\n",
    "$$ f(x) = \\lambda e^{-\\lambda x} $$\n",
    "\n",
    "To find $$ P(X > 2000) $$:\n",
    "$$ P(X > 2000) = 1 - P(X \\leq 2000) $$\n",
    "$$ P(X > 2000) = 1 - (1 - e^{-\\lambda \\cdot 2000}) $$\n",
    "$$ P(X > 2000) = e^{-\\lambda \\cdot 2000} $$\n",
    "$$ P(X > 2000) = e^{-\\frac{2000}{5000}} $$\n",
    "$$ P(X > 2000) = e^{-0.4} $$\n",
    "$$ P(X > 2000) \\approx 0.6703 $$\n",
    "\n",
    "So, the probability that the component lasts more than 2000 hours is approximately **0.6703**.\n",
    "\n",
    "</div>\n"
   ]
  },
  {
   "cell_type": "code",
   "execution_count": null,
   "id": "0b729ea6-0687-48ce-a79e-6826add61001",
   "metadata": {},
   "outputs": [],
   "source": []
  },
  {
   "cell_type": "code",
   "execution_count": null,
   "id": "b5fc3879-88c4-4bf9-a488-d2beaf6f36af",
   "metadata": {},
   "outputs": [],
   "source": []
  }
 ],
 "metadata": {
  "kernelspec": {
   "display_name": "Python 3 (ipykernel)",
   "language": "python",
   "name": "python3"
  },
  "language_info": {
   "codemirror_mode": {
    "name": "ipython",
    "version": 3
   },
   "file_extension": ".py",
   "mimetype": "text/x-python",
   "name": "python",
   "nbconvert_exporter": "python",
   "pygments_lexer": "ipython3",
   "version": "3.12.4"
  }
 },
 "nbformat": 4,
 "nbformat_minor": 5
}
